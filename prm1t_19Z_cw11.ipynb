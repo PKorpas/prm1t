{
  "nbformat": 4,
  "nbformat_minor": 0,
  "metadata": {
    "colab": {
      "name": "prm1t_19Z_cw11.ipynb",
      "provenance": [],
      "include_colab_link": true
    },
    "kernelspec": {
      "name": "python3",
      "display_name": "Python 3"
    }
  },
  "cells": [
    {
      "cell_type": "markdown",
      "metadata": {
        "id": "view-in-github",
        "colab_type": "text"
      },
      "source": [
        "<a href=\"https://colab.research.google.com/github/PKorpas/prm1t/blob/master/prm1t_19Z_cw11.ipynb\" target=\"_parent\"><img src=\"https://colab.research.google.com/assets/colab-badge.svg\" alt=\"Open In Colab\"/></a>"
      ]
    },
    {
      "cell_type": "markdown",
      "metadata": {
        "id": "GWBYQE2i1erM",
        "colab_type": "text"
      },
      "source": [
        "## Podstawy programowania 1 - semestr 19Z\n",
        "# Ćwiczenia 11: Obliczenia matematyczne, wizualizacja danych"
      ]
    },
    {
      "cell_type": "markdown",
      "metadata": {
        "id": "PufZMnGx3UxO",
        "colab_type": "text"
      },
      "source": [
        "### [NumPy](https://numpy.org/)"
      ]
    },
    {
      "cell_type": "code",
      "metadata": {
        "id": "z67zEaS2oqcx",
        "colab_type": "code",
        "outputId": "af3b3714-bfeb-4498-d870-93ceb390d5ca",
        "colab": {
          "base_uri": "https://localhost:8080/",
          "height": 35
        }
      },
      "source": [
        "import numpy as np\n",
        "\n",
        "a = np.array([1, 2, 3])\n",
        "a.shape"
      ],
      "execution_count": 0,
      "outputs": [
        {
          "output_type": "execute_result",
          "data": {
            "text/plain": [
              "(3,)"
            ]
          },
          "metadata": {
            "tags": []
          },
          "execution_count": 1
        }
      ]
    },
    {
      "cell_type": "code",
      "metadata": {
        "id": "g_RQgqLJrwow",
        "colab_type": "code",
        "outputId": "3a751abe-7655-4556-e3c6-beed53cd3aea",
        "colab": {
          "base_uri": "https://localhost:8080/",
          "height": 35
        }
      },
      "source": [
        "a[1]"
      ],
      "execution_count": 0,
      "outputs": [
        {
          "output_type": "execute_result",
          "data": {
            "text/plain": [
              "2"
            ]
          },
          "metadata": {
            "tags": []
          },
          "execution_count": 2
        }
      ]
    },
    {
      "cell_type": "code",
      "metadata": {
        "id": "yUUKBrgJo7I-",
        "colab_type": "code",
        "outputId": "b42abe8f-1b51-4a58-9bd8-472ea30be05d",
        "colab": {
          "base_uri": "https://localhost:8080/",
          "height": 35
        }
      },
      "source": [
        "a.T"
      ],
      "execution_count": 0,
      "outputs": [
        {
          "output_type": "execute_result",
          "data": {
            "text/plain": [
              "array([1, 2, 3])"
            ]
          },
          "metadata": {
            "tags": []
          },
          "execution_count": 3
        }
      ]
    },
    {
      "cell_type": "code",
      "metadata": {
        "id": "t9lC2fs2pAXE",
        "colab_type": "code",
        "outputId": "083f6463-1df8-49d9-f262-72c3f3be9adb",
        "colab": {
          "base_uri": "https://localhost:8080/",
          "height": 35
        }
      },
      "source": [
        "b = np.array([4, 5, 6])\n",
        "a * b"
      ],
      "execution_count": 0,
      "outputs": [
        {
          "output_type": "execute_result",
          "data": {
            "text/plain": [
              "array([ 4, 10, 18])"
            ]
          },
          "metadata": {
            "tags": []
          },
          "execution_count": 4
        }
      ]
    },
    {
      "cell_type": "code",
      "metadata": {
        "id": "HOyNm4JfpNJ8",
        "colab_type": "code",
        "outputId": "673b9fa1-3ca6-4497-ab6b-f86dd9af082f",
        "colab": {
          "base_uri": "https://localhost:8080/",
          "height": 35
        }
      },
      "source": [
        "a.dot(b)"
      ],
      "execution_count": 0,
      "outputs": [
        {
          "output_type": "execute_result",
          "data": {
            "text/plain": [
              "32"
            ]
          },
          "metadata": {
            "tags": []
          },
          "execution_count": 5
        }
      ]
    },
    {
      "cell_type": "code",
      "metadata": {
        "id": "6aL4RowFpT3M",
        "colab_type": "code",
        "outputId": "23b0fac7-a591-4f75-85b6-a208b583a773",
        "colab": {
          "base_uri": "https://localhost:8080/",
          "height": 35
        }
      },
      "source": [
        "np.inner(a, b)"
      ],
      "execution_count": 0,
      "outputs": [
        {
          "output_type": "execute_result",
          "data": {
            "text/plain": [
              "32"
            ]
          },
          "metadata": {
            "tags": []
          },
          "execution_count": 6
        }
      ]
    },
    {
      "cell_type": "code",
      "metadata": {
        "id": "PSi-GZSgpZHc",
        "colab_type": "code",
        "outputId": "28a2f79a-4fcb-49a3-cc36-dd838d8f940a",
        "colab": {
          "base_uri": "https://localhost:8080/",
          "height": 72
        }
      },
      "source": [
        "np.outer(a, b)"
      ],
      "execution_count": 0,
      "outputs": [
        {
          "output_type": "execute_result",
          "data": {
            "text/plain": [
              "array([[ 4,  5,  6],\n",
              "       [ 8, 10, 12],\n",
              "       [12, 15, 18]])"
            ]
          },
          "metadata": {
            "tags": []
          },
          "execution_count": 7
        }
      ]
    },
    {
      "cell_type": "code",
      "metadata": {
        "id": "LWGoLJjGsI0e",
        "colab_type": "code",
        "outputId": "d809091c-18a9-4005-dc6a-739f6720d138",
        "colab": {
          "base_uri": "https://localhost:8080/",
          "height": 35
        }
      },
      "source": [
        "c = np.array([[1, 2, 3]])\n",
        "c.shape"
      ],
      "execution_count": 0,
      "outputs": [
        {
          "output_type": "execute_result",
          "data": {
            "text/plain": [
              "(1, 3)"
            ]
          },
          "metadata": {
            "tags": []
          },
          "execution_count": 8
        }
      ]
    },
    {
      "cell_type": "code",
      "metadata": {
        "id": "FUm9QdoqsPhO",
        "colab_type": "code",
        "outputId": "8a7f7390-dbeb-45e9-fd91-dcb87bcf8178",
        "colab": {
          "base_uri": "https://localhost:8080/",
          "height": 72
        }
      },
      "source": [
        "c.T"
      ],
      "execution_count": 0,
      "outputs": [
        {
          "output_type": "execute_result",
          "data": {
            "text/plain": [
              "array([[1],\n",
              "       [2],\n",
              "       [3]])"
            ]
          },
          "metadata": {
            "tags": []
          },
          "execution_count": 9
        }
      ]
    },
    {
      "cell_type": "code",
      "metadata": {
        "id": "7jO1Gkb3sUtU",
        "colab_type": "code",
        "outputId": "25e6ad3e-9355-4212-bb78-ca9feb98ca46",
        "colab": {
          "base_uri": "https://localhost:8080/",
          "height": 35
        }
      },
      "source": [
        "d = np.array([[4, 5, 6]])\n",
        "c * d"
      ],
      "execution_count": 0,
      "outputs": [
        {
          "output_type": "execute_result",
          "data": {
            "text/plain": [
              "array([[ 4, 10, 18]])"
            ]
          },
          "metadata": {
            "tags": []
          },
          "execution_count": 10
        }
      ]
    },
    {
      "cell_type": "code",
      "metadata": {
        "id": "KVjmNsp_sgA9",
        "colab_type": "code",
        "outputId": "f0d150ab-7cad-4912-ecf8-8ba1cdff888b",
        "colab": {
          "base_uri": "https://localhost:8080/",
          "height": 72
        }
      },
      "source": [
        "c.T * d"
      ],
      "execution_count": 0,
      "outputs": [
        {
          "output_type": "execute_result",
          "data": {
            "text/plain": [
              "array([[ 4,  5,  6],\n",
              "       [ 8, 10, 12],\n",
              "       [12, 15, 18]])"
            ]
          },
          "metadata": {
            "tags": []
          },
          "execution_count": 11
        }
      ]
    },
    {
      "cell_type": "code",
      "metadata": {
        "id": "-9XmfD3RszqO",
        "colab_type": "code",
        "outputId": "2d221a7d-b3d0-477f-e7fe-e0c0a7a28f7f",
        "colab": {
          "base_uri": "https://localhost:8080/",
          "height": 35
        }
      },
      "source": [
        "np.inner(c, d)"
      ],
      "execution_count": 0,
      "outputs": [
        {
          "output_type": "execute_result",
          "data": {
            "text/plain": [
              "array([[32]])"
            ]
          },
          "metadata": {
            "tags": []
          },
          "execution_count": 12
        }
      ]
    },
    {
      "cell_type": "code",
      "metadata": {
        "id": "04DN7hoCtJ7E",
        "colab_type": "code",
        "outputId": "81581943-4f5a-4d78-a915-c7008e534643",
        "colab": {
          "base_uri": "https://localhost:8080/",
          "height": 72
        }
      },
      "source": [
        "np.outer(c, d)"
      ],
      "execution_count": 0,
      "outputs": [
        {
          "output_type": "execute_result",
          "data": {
            "text/plain": [
              "array([[ 4,  5,  6],\n",
              "       [ 8, 10, 12],\n",
              "       [12, 15, 18]])"
            ]
          },
          "metadata": {
            "tags": []
          },
          "execution_count": 13
        }
      ]
    },
    {
      "cell_type": "code",
      "metadata": {
        "id": "k4YAWC3otWCt",
        "colab_type": "code",
        "outputId": "3205c0a1-ae52-4b5e-f6f4-ca7d9b0c0d62",
        "colab": {
          "base_uri": "https://localhost:8080/",
          "height": 35
        }
      },
      "source": [
        "np.arange(0, 10, 1)"
      ],
      "execution_count": 0,
      "outputs": [
        {
          "output_type": "execute_result",
          "data": {
            "text/plain": [
              "array([0, 1, 2, 3, 4, 5, 6, 7, 8, 9])"
            ]
          },
          "metadata": {
            "tags": []
          },
          "execution_count": 14
        }
      ]
    },
    {
      "cell_type": "code",
      "metadata": {
        "id": "s8A9tgw-tmf9",
        "colab_type": "code",
        "outputId": "e24cd222-d311-4485-a935-dc33452433bf",
        "colab": {
          "base_uri": "https://localhost:8080/",
          "height": 35
        }
      },
      "source": [
        "z=np.linspace(0, 10, 11)\n",
        "z.dtype"
      ],
      "execution_count": 0,
      "outputs": [
        {
          "output_type": "execute_result",
          "data": {
            "text/plain": [
              "dtype('float64')"
            ]
          },
          "metadata": {
            "tags": []
          },
          "execution_count": 20
        }
      ]
    },
    {
      "cell_type": "code",
      "metadata": {
        "id": "-_d4x7JhtwQN",
        "colab_type": "code",
        "outputId": "facc25bc-e1ba-453b-8270-4891f9bdf8d6",
        "colab": {
          "base_uri": "https://localhost:8080/",
          "height": 35
        }
      },
      "source": [
        "np.logspace(-3, 3, 7)"
      ],
      "execution_count": 0,
      "outputs": [
        {
          "output_type": "execute_result",
          "data": {
            "text/plain": [
              "array([1.e-03, 1.e-02, 1.e-01, 1.e+00, 1.e+01, 1.e+02, 1.e+03])"
            ]
          },
          "metadata": {
            "tags": []
          },
          "execution_count": 31
        }
      ]
    },
    {
      "cell_type": "code",
      "metadata": {
        "id": "QtWfwJ56Me7v",
        "colab_type": "code",
        "outputId": "58666651-daab-414f-a6cd-dc402033afc3",
        "colab": {
          "base_uri": "https://localhost:8080/",
          "height": 146
        }
      },
      "source": [
        "img = np.zeros((256, 256), dtype=np.uint8)\n",
        "img = img + 1\n",
        "img = 128 * img\n",
        "img"
      ],
      "execution_count": 0,
      "outputs": [
        {
          "output_type": "execute_result",
          "data": {
            "text/plain": [
              "array([[128, 128, 128, ..., 128, 128, 128],\n",
              "       [128, 128, 128, ..., 128, 128, 128],\n",
              "       [128, 128, 128, ..., 128, 128, 128],\n",
              "       ...,\n",
              "       [128, 128, 128, ..., 128, 128, 128],\n",
              "       [128, 128, 128, ..., 128, 128, 128],\n",
              "       [128, 128, 128, ..., 128, 128, 128]], dtype=uint8)"
            ]
          },
          "metadata": {
            "tags": []
          },
          "execution_count": 29
        }
      ]
    },
    {
      "cell_type": "markdown",
      "metadata": {
        "id": "S7sG7aMD3zbG",
        "colab_type": "text"
      },
      "source": [
        "### [Matplotlib](https://matplotlib.org/)"
      ]
    },
    {
      "cell_type": "code",
      "metadata": {
        "id": "bNum68pELklo",
        "colab_type": "code",
        "outputId": "48305fb7-f225-40e3-faa8-b273430b81c4",
        "colab": {
          "base_uri": "https://localhost:8080/",
          "height": 295
        }
      },
      "source": [
        "import matplotlib.pylab as plt\n",
        "\n",
        "t = np.linspace(0, 1, 256)\n",
        "x = np.sin(2 * np.pi * t)\n",
        "\n",
        "plt.plot(t, x)\n",
        "plt.xlabel('t')\n",
        "plt.ylabel('x(t)')\n",
        "plt.title('Wykres funkcji')\n",
        "plt.grid()"
      ],
      "execution_count": 0,
      "outputs": [
        {
          "output_type": "display_data",
          "data": {
            "image/png": "[encoded data removed]",
            "text/plain": [
              "<Figure size 432x288 with 1 Axes>"
            ]
          },
          "metadata": {
            "tags": []
          }
        }
      ]
    },
    {
      "cell_type": "code",
      "metadata": {
        "id": "PJTQEm-miQw-",
        "colab_type": "code",
        "colab": {}
      },
      "source": [
        ""
      ],
      "execution_count": 0,
      "outputs": []
    },
    {
      "cell_type": "markdown",
      "metadata": {
        "id": "qt0DwxhZw0au",
        "colab_type": "text"
      },
      "source": [
        "[Zadanie](https://drive.google.com/open?id=1ENyZMCHJKHo79Ua3c7JV9xXz18Uhchag)"
      ]
    },
    {
      "cell_type": "code",
      "metadata": {
        "id": "nrIRb1rmw9zL",
        "colab_type": "code",
        "colab": {}
      },
      "source": [
        ""
      ],
      "execution_count": 0,
      "outputs": []
    }
  ]
}